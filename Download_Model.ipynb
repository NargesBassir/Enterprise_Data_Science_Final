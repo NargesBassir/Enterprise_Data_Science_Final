{
 "cells": [
  {
   "cell_type": "code",
   "source": [
    "from azureml.core import Workspace\n",
    "ws = Workspace.from_config()\n",
    "experiment_name=\"BCA_experiment\""
   ],
   "outputs": [],
   "execution_count": 1,
   "metadata": {
    "collapsed": true,
    "gather": {
     "logged": 1621183187558
    }
   }
  },
  {
   "cell_type": "code",
   "source": [
    "exp = ws.experiments[experiment_name]\n",
    "runs = list(exp.get_runs())"
   ],
   "outputs": [],
   "execution_count": 2,
   "metadata": {
    "collapsed": true,
    "jupyter": {
     "source_hidden": false,
     "outputs_hidden": false
    },
    "nteract": {
     "transient": {
      "deleting": false
     }
    },
    "gather": {
     "logged": 1621183192998
    }
   }
  },
  {
   "cell_type": "code",
   "source": [
    "runs[0].download_files(output_directory=\"deployments/rfbca_container\")"
   ],
   "outputs": [],
   "execution_count": 5,
   "metadata": {
    "collapsed": true,
    "jupyter": {
     "source_hidden": false,
     "outputs_hidden": false
    },
    "nteract": {
     "transient": {
      "deleting": false
     }
    },
    "gather": {
     "logged": 1621183351630
    }
   }
  },
  {
   "cell_type": "code",
   "source": [
    "# from mlflow.tracking.artifact_utils import _download_artifact_from_uri\n",
    "\n",
    "# absolute_model_path = _download_artifact_from_uri(model_uri, \"deployments/rfbca-container/\")\n"
   ],
   "outputs": [
    {
     "output_type": "error",
     "ename": "MlflowException",
     "evalue": "Run 'de4324cb-fb73-4b86-9933-ba9d2756a3fd' not found",
     "traceback": [
      "\u001B[0;31m---------------------------------------------------------------------------\u001B[0m",
      "\u001B[0;31mMlflowException\u001B[0m                           Traceback (most recent call last)",
      "\u001B[0;32m<ipython-input-9-3696319236b3>\u001B[0m in \u001B[0;36m<module>\u001B[0;34m\u001B[0m\n\u001B[1;32m      1\u001B[0m \u001B[0;32mfrom\u001B[0m \u001B[0mmlflow\u001B[0m\u001B[0;34m.\u001B[0m\u001B[0mtracking\u001B[0m\u001B[0;34m.\u001B[0m\u001B[0martifact_utils\u001B[0m \u001B[0;32mimport\u001B[0m \u001B[0m_download_artifact_from_uri\u001B[0m\u001B[0;34m\u001B[0m\u001B[0;34m\u001B[0m\u001B[0m\n\u001B[1;32m      2\u001B[0m \u001B[0;34m\u001B[0m\u001B[0m\n\u001B[0;32m----> 3\u001B[0;31m \u001B[0mabsolute_model_path\u001B[0m \u001B[0;34m=\u001B[0m \u001B[0m_download_artifact_from_uri\u001B[0m\u001B[0;34m(\u001B[0m\u001B[0mmodel_uri\u001B[0m\u001B[0;34m,\u001B[0m \u001B[0;34m\"deployments/rfbca-container/\"\u001B[0m\u001B[0;34m)\u001B[0m\u001B[0;34m\u001B[0m\u001B[0;34m\u001B[0m\u001B[0m\n\u001B[0m",
      "\u001B[0;32m/anaconda/envs/azureml_py36/lib/python3.6/site-packages/mlflow/tracking/artifact_utils.py\u001B[0m in \u001B[0;36m_download_artifact_from_uri\u001B[0;34m(artifact_uri, output_path)\u001B[0m\n\u001B[1;32m     77\u001B[0m         \u001B[0mroot_uri\u001B[0m \u001B[0;34m=\u001B[0m \u001B[0mprefix\u001B[0m \u001B[0;34m+\u001B[0m \u001B[0murllib\u001B[0m\u001B[0;34m.\u001B[0m\u001B[0mparse\u001B[0m\u001B[0;34m.\u001B[0m\u001B[0murlunparse\u001B[0m\u001B[0;34m(\u001B[0m\u001B[0mparsed_uri\u001B[0m\u001B[0;34m)\u001B[0m\u001B[0;34m\u001B[0m\u001B[0;34m\u001B[0m\u001B[0m\n\u001B[1;32m     78\u001B[0m \u001B[0;34m\u001B[0m\u001B[0m\n\u001B[0;32m---> 79\u001B[0;31m     return get_artifact_repository(artifact_uri=root_uri).download_artifacts(\n\u001B[0m\u001B[1;32m     80\u001B[0m         \u001B[0martifact_path\u001B[0m\u001B[0;34m=\u001B[0m\u001B[0martifact_path\u001B[0m\u001B[0;34m,\u001B[0m \u001B[0mdst_path\u001B[0m\u001B[0;34m=\u001B[0m\u001B[0moutput_path\u001B[0m\u001B[0;34m\u001B[0m\u001B[0;34m\u001B[0m\u001B[0m\n\u001B[1;32m     81\u001B[0m     )\n",
      "\u001B[0;32m/anaconda/envs/azureml_py36/lib/python3.6/site-packages/mlflow/store/artifact/artifact_repository_registry.py\u001B[0m in \u001B[0;36mget_artifact_repository\u001B[0;34m(artifact_uri)\u001B[0m\n\u001B[1;32m    100\u001B[0m              \u001B[0mrequirements\u001B[0m\u001B[0;34m.\u001B[0m\u001B[0;34m\u001B[0m\u001B[0;34m\u001B[0m\u001B[0m\n\u001B[1;32m    101\u001B[0m     \"\"\"\n\u001B[0;32m--> 102\u001B[0;31m     \u001B[0;32mreturn\u001B[0m \u001B[0m_artifact_repository_registry\u001B[0m\u001B[0;34m.\u001B[0m\u001B[0mget_artifact_repository\u001B[0m\u001B[0;34m(\u001B[0m\u001B[0martifact_uri\u001B[0m\u001B[0;34m)\u001B[0m\u001B[0;34m\u001B[0m\u001B[0;34m\u001B[0m\u001B[0m\n\u001B[0m",
      "\u001B[0;32m/anaconda/envs/azureml_py36/lib/python3.6/site-packages/mlflow/store/artifact/artifact_repository_registry.py\u001B[0m in \u001B[0;36mget_artifact_repository\u001B[0;34m(self, artifact_uri)\u001B[0m\n\u001B[1;32m     69\u001B[0m                 )\n\u001B[1;32m     70\u001B[0m             )\n\u001B[0;32m---> 71\u001B[0;31m         \u001B[0;32mreturn\u001B[0m \u001B[0mrepository\u001B[0m\u001B[0;34m(\u001B[0m\u001B[0martifact_uri\u001B[0m\u001B[0;34m)\u001B[0m\u001B[0;34m\u001B[0m\u001B[0;34m\u001B[0m\u001B[0m\n\u001B[0m\u001B[1;32m     72\u001B[0m \u001B[0;34m\u001B[0m\u001B[0m\n\u001B[1;32m     73\u001B[0m \u001B[0;34m\u001B[0m\u001B[0m\n",
      "\u001B[0;32m/anaconda/envs/azureml_py36/lib/python3.6/site-packages/mlflow/store/artifact/runs_artifact_repo.py\u001B[0m in \u001B[0;36m__init__\u001B[0;34m(self, artifact_uri)\u001B[0m\n\u001B[1;32m     24\u001B[0m \u001B[0;34m\u001B[0m\u001B[0m\n\u001B[1;32m     25\u001B[0m         \u001B[0msuper\u001B[0m\u001B[0;34m(\u001B[0m\u001B[0;34m)\u001B[0m\u001B[0;34m.\u001B[0m\u001B[0m__init__\u001B[0m\u001B[0;34m(\u001B[0m\u001B[0martifact_uri\u001B[0m\u001B[0;34m)\u001B[0m\u001B[0;34m\u001B[0m\u001B[0;34m\u001B[0m\u001B[0m\n\u001B[0;32m---> 26\u001B[0;31m         \u001B[0muri\u001B[0m \u001B[0;34m=\u001B[0m \u001B[0mRunsArtifactRepository\u001B[0m\u001B[0;34m.\u001B[0m\u001B[0mget_underlying_uri\u001B[0m\u001B[0;34m(\u001B[0m\u001B[0martifact_uri\u001B[0m\u001B[0;34m)\u001B[0m\u001B[0;34m\u001B[0m\u001B[0;34m\u001B[0m\u001B[0m\n\u001B[0m\u001B[1;32m     27\u001B[0m         \u001B[0mself\u001B[0m\u001B[0;34m.\u001B[0m\u001B[0mrepo\u001B[0m \u001B[0;34m=\u001B[0m \u001B[0mget_artifact_repository\u001B[0m\u001B[0;34m(\u001B[0m\u001B[0muri\u001B[0m\u001B[0;34m)\u001B[0m\u001B[0;34m\u001B[0m\u001B[0;34m\u001B[0m\u001B[0m\n\u001B[1;32m     28\u001B[0m \u001B[0;34m\u001B[0m\u001B[0m\n",
      "\u001B[0;32m/anaconda/envs/azureml_py36/lib/python3.6/site-packages/mlflow/store/artifact/runs_artifact_repo.py\u001B[0m in \u001B[0;36mget_underlying_uri\u001B[0;34m(runs_uri)\u001B[0m\n\u001B[1;32m     37\u001B[0m         \u001B[0;34m(\u001B[0m\u001B[0mrun_id\u001B[0m\u001B[0;34m,\u001B[0m \u001B[0martifact_path\u001B[0m\u001B[0;34m)\u001B[0m \u001B[0;34m=\u001B[0m \u001B[0mRunsArtifactRepository\u001B[0m\u001B[0;34m.\u001B[0m\u001B[0mparse_runs_uri\u001B[0m\u001B[0;34m(\u001B[0m\u001B[0mruns_uri\u001B[0m\u001B[0;34m)\u001B[0m\u001B[0;34m\u001B[0m\u001B[0;34m\u001B[0m\u001B[0m\n\u001B[1;32m     38\u001B[0m         \u001B[0mtracking_uri\u001B[0m \u001B[0;34m=\u001B[0m \u001B[0mget_databricks_profile_uri_from_artifact_uri\u001B[0m\u001B[0;34m(\u001B[0m\u001B[0mruns_uri\u001B[0m\u001B[0;34m)\u001B[0m\u001B[0;34m\u001B[0m\u001B[0;34m\u001B[0m\u001B[0m\n\u001B[0;32m---> 39\u001B[0;31m         \u001B[0muri\u001B[0m \u001B[0;34m=\u001B[0m \u001B[0mget_artifact_uri\u001B[0m\u001B[0;34m(\u001B[0m\u001B[0mrun_id\u001B[0m\u001B[0;34m,\u001B[0m \u001B[0martifact_path\u001B[0m\u001B[0;34m,\u001B[0m \u001B[0mtracking_uri\u001B[0m\u001B[0;34m)\u001B[0m\u001B[0;34m\u001B[0m\u001B[0;34m\u001B[0m\u001B[0m\n\u001B[0m\u001B[1;32m     40\u001B[0m         \u001B[0;32massert\u001B[0m \u001B[0;32mnot\u001B[0m \u001B[0mRunsArtifactRepository\u001B[0m\u001B[0;34m.\u001B[0m\u001B[0mis_runs_uri\u001B[0m\u001B[0;34m(\u001B[0m\u001B[0muri\u001B[0m\u001B[0;34m)\u001B[0m  \u001B[0;31m# avoid an infinite loop\u001B[0m\u001B[0;34m\u001B[0m\u001B[0;34m\u001B[0m\u001B[0m\n\u001B[1;32m     41\u001B[0m         \u001B[0;32mreturn\u001B[0m \u001B[0madd_databricks_profile_info_to_artifact_uri\u001B[0m\u001B[0;34m(\u001B[0m\u001B[0muri\u001B[0m\u001B[0;34m,\u001B[0m \u001B[0mtracking_uri\u001B[0m\u001B[0;34m)\u001B[0m\u001B[0;34m\u001B[0m\u001B[0;34m\u001B[0m\u001B[0m\n",
      "\u001B[0;32m/anaconda/envs/azureml_py36/lib/python3.6/site-packages/mlflow/tracking/artifact_utils.py\u001B[0m in \u001B[0;36mget_artifact_uri\u001B[0;34m(run_id, artifact_path, tracking_uri)\u001B[0m\n\u001B[1;32m     43\u001B[0m \u001B[0;34m\u001B[0m\u001B[0m\n\u001B[1;32m     44\u001B[0m     \u001B[0mstore\u001B[0m \u001B[0;34m=\u001B[0m \u001B[0m_get_store\u001B[0m\u001B[0;34m(\u001B[0m\u001B[0mtracking_uri\u001B[0m\u001B[0;34m)\u001B[0m\u001B[0;34m\u001B[0m\u001B[0;34m\u001B[0m\u001B[0m\n\u001B[0;32m---> 45\u001B[0;31m     \u001B[0mrun\u001B[0m \u001B[0;34m=\u001B[0m \u001B[0mstore\u001B[0m\u001B[0;34m.\u001B[0m\u001B[0mget_run\u001B[0m\u001B[0;34m(\u001B[0m\u001B[0mrun_id\u001B[0m\u001B[0;34m)\u001B[0m\u001B[0;34m\u001B[0m\u001B[0;34m\u001B[0m\u001B[0m\n\u001B[0m\u001B[1;32m     46\u001B[0m     \u001B[0;31m# Maybe move this method to RunsArtifactRepository so the circular dependency is clearer.\u001B[0m\u001B[0;34m\u001B[0m\u001B[0;34m\u001B[0m\u001B[0;34m\u001B[0m\u001B[0m\n\u001B[1;32m     47\u001B[0m     \u001B[0;32massert\u001B[0m \u001B[0murllib\u001B[0m\u001B[0;34m.\u001B[0m\u001B[0mparse\u001B[0m\u001B[0;34m.\u001B[0m\u001B[0murlparse\u001B[0m\u001B[0;34m(\u001B[0m\u001B[0mrun\u001B[0m\u001B[0;34m.\u001B[0m\u001B[0minfo\u001B[0m\u001B[0;34m.\u001B[0m\u001B[0martifact_uri\u001B[0m\u001B[0;34m)\u001B[0m\u001B[0;34m.\u001B[0m\u001B[0mscheme\u001B[0m \u001B[0;34m!=\u001B[0m \u001B[0;34m\"runs\"\u001B[0m  \u001B[0;31m# avoid an infinite loop\u001B[0m\u001B[0;34m\u001B[0m\u001B[0;34m\u001B[0m\u001B[0m\n",
      "\u001B[0;32m/anaconda/envs/azureml_py36/lib/python3.6/site-packages/mlflow/store/tracking/file_store.py\u001B[0m in \u001B[0;36mget_run\u001B[0;34m(self, run_id)\u001B[0m\n\u001B[1;32m    495\u001B[0m         \"\"\"\n\u001B[1;32m    496\u001B[0m         \u001B[0m_validate_run_id\u001B[0m\u001B[0;34m(\u001B[0m\u001B[0mrun_id\u001B[0m\u001B[0;34m)\u001B[0m\u001B[0;34m\u001B[0m\u001B[0;34m\u001B[0m\u001B[0m\n\u001B[0;32m--> 497\u001B[0;31m         \u001B[0mrun_info\u001B[0m \u001B[0;34m=\u001B[0m \u001B[0mself\u001B[0m\u001B[0;34m.\u001B[0m\u001B[0m_get_run_info\u001B[0m\u001B[0;34m(\u001B[0m\u001B[0mrun_id\u001B[0m\u001B[0;34m)\u001B[0m\u001B[0;34m\u001B[0m\u001B[0;34m\u001B[0m\u001B[0m\n\u001B[0m\u001B[1;32m    498\u001B[0m         \u001B[0;32mif\u001B[0m \u001B[0mrun_info\u001B[0m \u001B[0;32mis\u001B[0m \u001B[0;32mNone\u001B[0m\u001B[0;34m:\u001B[0m\u001B[0;34m\u001B[0m\u001B[0;34m\u001B[0m\u001B[0m\n\u001B[1;32m    499\u001B[0m             raise MlflowException(\n",
      "\u001B[0;32m/anaconda/envs/azureml_py36/lib/python3.6/site-packages/mlflow/store/tracking/file_store.py\u001B[0m in \u001B[0;36m_get_run_info\u001B[0;34m(self, run_uuid)\u001B[0m\n\u001B[1;32m    515\u001B[0m         \u001B[0;32mif\u001B[0m \u001B[0mrun_dir\u001B[0m \u001B[0;32mis\u001B[0m \u001B[0;32mNone\u001B[0m\u001B[0;34m:\u001B[0m\u001B[0;34m\u001B[0m\u001B[0;34m\u001B[0m\u001B[0m\n\u001B[1;32m    516\u001B[0m             raise MlflowException(\n\u001B[0;32m--> 517\u001B[0;31m                 \u001B[0;34m\"Run '%s' not found\"\u001B[0m \u001B[0;34m%\u001B[0m \u001B[0mrun_uuid\u001B[0m\u001B[0;34m,\u001B[0m \u001B[0mdatabricks_pb2\u001B[0m\u001B[0;34m.\u001B[0m\u001B[0mRESOURCE_DOES_NOT_EXIST\u001B[0m\u001B[0;34m\u001B[0m\u001B[0;34m\u001B[0m\u001B[0m\n\u001B[0m\u001B[1;32m    518\u001B[0m             )\n\u001B[1;32m    519\u001B[0m         \u001B[0mrun_info\u001B[0m \u001B[0;34m=\u001B[0m \u001B[0mself\u001B[0m\u001B[0;34m.\u001B[0m\u001B[0m_get_run_info_from_dir\u001B[0m\u001B[0;34m(\u001B[0m\u001B[0mrun_dir\u001B[0m\u001B[0;34m)\u001B[0m\u001B[0;34m\u001B[0m\u001B[0;34m\u001B[0m\u001B[0m\n",
      "\u001B[0;31mMlflowException\u001B[0m: Run 'de4324cb-fb73-4b86-9933-ba9d2756a3fd' not found"
     ]
    }
   ],
   "execution_count": 9,
   "metadata": {
    "collapsed": false,
    "pycharm": {
     "name": "#%%\n"
    }
   }
  }
 ],
 "metadata": {
  "kernelspec": {
   "name": "python3",
   "language": "python",
   "display_name": "Python 3"
  },
  "language_info": {
   "name": "python",
   "version": "3.6.9",
   "mimetype": "text/x-python",
   "codemirror_mode": {
    "name": "ipython",
    "version": 3
   },
   "pygments_lexer": "ipython3",
   "nbconvert_exporter": "python",
   "file_extension": ".py"
  },
  "kernel_info": {
   "name": "python3"
  },
  "nteract": {
   "version": "nteract-front-end@1.0.0"
  },
  "microsoft": {
   "host": {
    "AzureML": {
     "notebookHasBeenCompleted": true
    }
   }
  }
 },
 "nbformat": 4,
 "nbformat_minor": 0
}