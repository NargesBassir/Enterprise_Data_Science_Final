{
 "cells": [
  {
   "cell_type": "code",
   "execution_count": 3,
   "metadata": {
    "collapsed": true
   },
   "outputs": [
    {
     "ename": "UserErrorException",
     "evalue": "UserErrorException:\n\tMessage: You are currently logged-in to 7d76d361-8277-4708-a477-64e8366cd1bc tenant. You don't have access to de5b26f3-b6ce-47cd-a291-0004d9ab88bb subscription, please check if it is in this tenant. All the subscriptions that you have access to in this tenant are = \n [SubscriptionInfo(subscription_name='Azure for Students', subscription_id='bdad271e-2ad8-46b6-8e5f-bc7a3fe9998b')]. \n Please refer to aka.ms/aml-notebook-auth for different authentication mechanisms in azureml-sdk.\n\tInnerException None\n\tErrorResponse \n{\n    \"error\": {\n        \"code\": \"UserError\",\n        \"message\": \"You are currently logged-in to 7d76d361-8277-4708-a477-64e8366cd1bc tenant. You don't have access to de5b26f3-b6ce-47cd-a291-0004d9ab88bb subscription, please check if it is in this tenant. All the subscriptions that you have access to in this tenant are = \\n [SubscriptionInfo(subscription_name='Azure for Students', subscription_id='bdad271e-2ad8-46b6-8e5f-bc7a3fe9998b')]. \\n Please refer to aka.ms/aml-notebook-auth for different authentication mechanisms in azureml-sdk.\"\n    }\n}",
     "output_type": "error",
     "traceback": [
      "\u001B[0;31m---------------------------------------------------------------------------\u001B[0m",
      "\u001B[0;31mUserErrorException\u001B[0m                        Traceback (most recent call last)",
      "\u001B[0;32m<ipython-input-3-c2c286300c2b>\u001B[0m in \u001B[0;36m<module>\u001B[0;34m\u001B[0m\n\u001B[1;32m      1\u001B[0m \u001B[0;32mfrom\u001B[0m \u001B[0mazureml\u001B[0m\u001B[0;34m.\u001B[0m\u001B[0mcore\u001B[0m \u001B[0;32mimport\u001B[0m \u001B[0mWorkspace\u001B[0m\u001B[0;34m\u001B[0m\u001B[0;34m\u001B[0m\u001B[0m\n\u001B[0;32m----> 2\u001B[0;31m \u001B[0mws\u001B[0m \u001B[0;34m=\u001B[0m \u001B[0mWorkspace\u001B[0m\u001B[0;34m.\u001B[0m\u001B[0mfrom_config\u001B[0m\u001B[0;34m(\u001B[0m\u001B[0m_file_name\u001B[0m\u001B[0;34m=\u001B[0m\u001B[0;34m'config.json'\u001B[0m\u001B[0;34m)\u001B[0m\u001B[0;34m\u001B[0m\u001B[0;34m\u001B[0m\u001B[0m\n\u001B[0m\u001B[1;32m      3\u001B[0m \u001B[0mexperiment_name\u001B[0m\u001B[0;34m=\u001B[0m\u001B[0;34m\"BCA_experiment\"\u001B[0m\u001B[0;34m\u001B[0m\u001B[0;34m\u001B[0m\u001B[0m\n\u001B[1;32m      4\u001B[0m \u001B[0;34m\u001B[0m\u001B[0m\n",
      "\u001B[0;32m~/PycharmProjects/Enterprise_Data_Science_Final/venv/lib/python3.8/site-packages/azureml/core/workspace.py\u001B[0m in \u001B[0;36mfrom_config\u001B[0;34m(path, auth, _logger, _file_name)\u001B[0m\n\u001B[1;32m    286\u001B[0m \u001B[0;34m\u001B[0m\u001B[0m\n\u001B[1;32m    287\u001B[0m         \u001B[0m_logger\u001B[0m\u001B[0;34m.\u001B[0m\u001B[0minfo\u001B[0m\u001B[0;34m(\u001B[0m\u001B[0;34m'Found the config file in: %s'\u001B[0m\u001B[0;34m,\u001B[0m \u001B[0mfound_path\u001B[0m\u001B[0;34m)\u001B[0m\u001B[0;34m\u001B[0m\u001B[0;34m\u001B[0m\u001B[0m\n\u001B[0;32m--> 288\u001B[0;31m         return Workspace.get(\n\u001B[0m\u001B[1;32m    289\u001B[0m             \u001B[0mworkspace_name\u001B[0m\u001B[0;34m,\u001B[0m\u001B[0;34m\u001B[0m\u001B[0;34m\u001B[0m\u001B[0m\n\u001B[1;32m    290\u001B[0m             \u001B[0mauth\u001B[0m\u001B[0;34m=\u001B[0m\u001B[0mauth\u001B[0m\u001B[0;34m,\u001B[0m\u001B[0;34m\u001B[0m\u001B[0;34m\u001B[0m\u001B[0m\n",
      "\u001B[0;32m~/PycharmProjects/Enterprise_Data_Science_Final/venv/lib/python3.8/site-packages/azureml/core/workspace.py\u001B[0m in \u001B[0;36mget\u001B[0;34m(name, auth, subscription_id, resource_group)\u001B[0m\n\u001B[1;32m    587\u001B[0m             \u001B[0mauth\u001B[0m \u001B[0;34m=\u001B[0m \u001B[0mInteractiveLoginAuthentication\u001B[0m\u001B[0;34m(\u001B[0m\u001B[0;34m)\u001B[0m\u001B[0;34m\u001B[0m\u001B[0;34m\u001B[0m\u001B[0m\n\u001B[1;32m    588\u001B[0m \u001B[0;34m\u001B[0m\u001B[0m\n\u001B[0;32m--> 589\u001B[0;31m         workspace = _commands.get_workspace(\n\u001B[0m\u001B[1;32m    590\u001B[0m             \u001B[0mauth\u001B[0m\u001B[0;34m,\u001B[0m\u001B[0;34m\u001B[0m\u001B[0;34m\u001B[0m\u001B[0m\n\u001B[1;32m    591\u001B[0m             \u001B[0msubscription_id\u001B[0m\u001B[0;34m=\u001B[0m\u001B[0msubscription_id\u001B[0m\u001B[0;34m,\u001B[0m\u001B[0;34m\u001B[0m\u001B[0;34m\u001B[0m\u001B[0m\n",
      "\u001B[0;32m~/PycharmProjects/Enterprise_Data_Science_Final/venv/lib/python3.8/site-packages/azureml/_project/_commands.py\u001B[0m in \u001B[0;36mget_workspace\u001B[0;34m(auth, subscription_id, resource_group_name, workspace_name)\u001B[0m\n\u001B[1;32m    391\u001B[0m     \"\"\"\n\u001B[1;32m    392\u001B[0m     \u001B[0;32mtry\u001B[0m\u001B[0;34m:\u001B[0m\u001B[0;34m\u001B[0m\u001B[0;34m\u001B[0m\u001B[0m\n\u001B[0;32m--> 393\u001B[0;31m         \u001B[0mworkspaces\u001B[0m \u001B[0;34m=\u001B[0m \u001B[0mauth\u001B[0m\u001B[0;34m.\u001B[0m\u001B[0m_get_service_client\u001B[0m\u001B[0;34m(\u001B[0m\u001B[0mAzureMachineLearningWorkspaces\u001B[0m\u001B[0;34m,\u001B[0m \u001B[0msubscription_id\u001B[0m\u001B[0;34m)\u001B[0m\u001B[0;34m.\u001B[0m\u001B[0mworkspaces\u001B[0m\u001B[0;34m\u001B[0m\u001B[0;34m\u001B[0m\u001B[0m\n\u001B[0m\u001B[1;32m    394\u001B[0m         return WorkspacesOperations.get(\n\u001B[1;32m    395\u001B[0m             \u001B[0mworkspaces\u001B[0m\u001B[0;34m,\u001B[0m\u001B[0;34m\u001B[0m\u001B[0;34m\u001B[0m\u001B[0m\n",
      "\u001B[0;32m~/PycharmProjects/Enterprise_Data_Science_Final/venv/lib/python3.8/site-packages/azureml/core/authentication.py\u001B[0m in \u001B[0;36m_get_service_client\u001B[0;34m(self, client_class, subscription_id, subscription_bound, base_url)\u001B[0m\n\u001B[1;32m    184\u001B[0m         \u001B[0;32mif\u001B[0m \u001B[0msubscription_id\u001B[0m\u001B[0;34m:\u001B[0m\u001B[0;34m\u001B[0m\u001B[0;34m\u001B[0m\u001B[0m\n\u001B[1;32m    185\u001B[0m             \u001B[0mall_subscription_list\u001B[0m\u001B[0;34m,\u001B[0m \u001B[0mtenant_id\u001B[0m \u001B[0;34m=\u001B[0m \u001B[0mself\u001B[0m\u001B[0;34m.\u001B[0m\u001B[0m_get_all_subscription_ids\u001B[0m\u001B[0;34m(\u001B[0m\u001B[0;34m)\u001B[0m\u001B[0;34m\u001B[0m\u001B[0;34m\u001B[0m\u001B[0m\n\u001B[0;32m--> 186\u001B[0;31m             \u001B[0mself\u001B[0m\u001B[0;34m.\u001B[0m\u001B[0m_check_if_subscription_exists\u001B[0m\u001B[0;34m(\u001B[0m\u001B[0msubscription_id\u001B[0m\u001B[0;34m,\u001B[0m \u001B[0mall_subscription_list\u001B[0m\u001B[0;34m,\u001B[0m \u001B[0mtenant_id\u001B[0m\u001B[0;34m)\u001B[0m\u001B[0;34m\u001B[0m\u001B[0;34m\u001B[0m\u001B[0m\n\u001B[0m\u001B[1;32m    187\u001B[0m \u001B[0;34m\u001B[0m\u001B[0m\n\u001B[1;32m    188\u001B[0m         \u001B[0;32mif\u001B[0m \u001B[0;32mnot\u001B[0m \u001B[0mbase_url\u001B[0m\u001B[0;34m:\u001B[0m\u001B[0;34m\u001B[0m\u001B[0;34m\u001B[0m\u001B[0m\n",
      "\u001B[0;32m~/PycharmProjects/Enterprise_Data_Science_Final/venv/lib/python3.8/site-packages/azureml/core/authentication.py\u001B[0m in \u001B[0;36m_check_if_subscription_exists\u001B[0;34m(self, subscription_id, subscription_id_list, tenant_id)\u001B[0m\n\u001B[1;32m    631\u001B[0m \u001B[0;34m\u001B[0m\u001B[0m\n\u001B[1;32m    632\u001B[0m     \u001B[0;32mdef\u001B[0m \u001B[0m_check_if_subscription_exists\u001B[0m\u001B[0;34m(\u001B[0m\u001B[0mself\u001B[0m\u001B[0;34m,\u001B[0m \u001B[0msubscription_id\u001B[0m\u001B[0;34m,\u001B[0m \u001B[0msubscription_id_list\u001B[0m\u001B[0;34m,\u001B[0m \u001B[0mtenant_id\u001B[0m\u001B[0;34m)\u001B[0m\u001B[0;34m:\u001B[0m\u001B[0;34m\u001B[0m\u001B[0;34m\u001B[0m\u001B[0m\n\u001B[0;32m--> 633\u001B[0;31m         super(InteractiveLoginAuthentication, self)._check_if_subscription_exists(subscription_id,\n\u001B[0m\u001B[1;32m    634\u001B[0m                                                                                   subscription_id_list, tenant_id)\n\u001B[1;32m    635\u001B[0m \u001B[0;34m\u001B[0m\u001B[0m\n",
      "\u001B[0;32m~/PycharmProjects/Enterprise_Data_Science_Final/venv/lib/python3.8/site-packages/azureml/core/authentication.py\u001B[0m in \u001B[0;36m_check_if_subscription_exists\u001B[0;34m(self, subscription_id, subscription_id_list, tenant_id)\u001B[0m\n\u001B[1;32m    288\u001B[0m                                                                                    subscription_id_list))\n\u001B[1;32m    289\u001B[0m         \u001B[0;32melse\u001B[0m\u001B[0;34m:\u001B[0m\u001B[0;34m\u001B[0m\u001B[0;34m\u001B[0m\u001B[0m\n\u001B[0;32m--> 290\u001B[0;31m             raise UserErrorException(\"You are currently logged-in to {} tenant. You don't have access \"\n\u001B[0m\u001B[1;32m    291\u001B[0m                                      \u001B[0;34m\"to {} subscription, please check if it is in this tenant. \"\u001B[0m\u001B[0;34m\u001B[0m\u001B[0;34m\u001B[0m\u001B[0m\n\u001B[1;32m    292\u001B[0m                                      \u001B[0;34m\"All the subscriptions that you have access to in this tenant are = \\n \"\u001B[0m\u001B[0;34m\u001B[0m\u001B[0;34m\u001B[0m\u001B[0m\n",
      "\u001B[0;31mUserErrorException\u001B[0m: UserErrorException:\n\tMessage: You are currently logged-in to 7d76d361-8277-4708-a477-64e8366cd1bc tenant. You don't have access to de5b26f3-b6ce-47cd-a291-0004d9ab88bb subscription, please check if it is in this tenant. All the subscriptions that you have access to in this tenant are = \n [SubscriptionInfo(subscription_name='Azure for Students', subscription_id='bdad271e-2ad8-46b6-8e5f-bc7a3fe9998b')]. \n Please refer to aka.ms/aml-notebook-auth for different authentication mechanisms in azureml-sdk.\n\tInnerException None\n\tErrorResponse \n{\n    \"error\": {\n        \"code\": \"UserError\",\n        \"message\": \"You are currently logged-in to 7d76d361-8277-4708-a477-64e8366cd1bc tenant. You don't have access to de5b26f3-b6ce-47cd-a291-0004d9ab88bb subscription, please check if it is in this tenant. All the subscriptions that you have access to in this tenant are = \\n [SubscriptionInfo(subscription_name='Azure for Students', subscription_id='bdad271e-2ad8-46b6-8e5f-bc7a3fe9998b')]. \\n Please refer to aka.ms/aml-notebook-auth for different authentication mechanisms in azureml-sdk.\"\n    }\n}"
     ]
    }
   ],
   "source": [
    "from azureml.core import Workspace\n",
    "ws = Workspace.from_config(_file_name='config.json')\n",
    "experiment_name=\"BCA_experiment\""
   ]
  },
  {
   "cell_type": "code",
   "execution_count": null,
   "outputs": [],
   "source": [
    "runid = \"de4324cb-fb73-4b86-9933-ba9d2756a3fd\"\n",
    "model_path = 'RandomForestClassifier-model'\n",
    "\n",
    "model_uri='runs:/{}/{}'.format(runid, model_path)\n"
   ],
   "metadata": {
    "collapsed": false,
    "pycharm": {
     "name": "#%%\n"
    }
   }
  },
  {
   "cell_type": "code",
   "execution_count": null,
   "outputs": [],
   "source": [
    "from mlflow.tracking.artifact_utils import _download_artifact_from_uri\n",
    "\n",
    "absolute_model_path = _download_artifact_from_uri(model_uri, \"deployments/rfbca-container/\")\n"
   ],
   "metadata": {
    "collapsed": false,
    "pycharm": {
     "name": "#%%\n"
    }
   }
  }
 ],
 "metadata": {
  "kernelspec": {
   "display_name": "Python 3",
   "language": "python",
   "name": "python3"
  },
  "language_info": {
   "codemirror_mode": {
    "name": "ipython",
    "version": 2
   },
   "file_extension": ".py",
   "mimetype": "text/x-python",
   "name": "python",
   "nbconvert_exporter": "python",
   "pygments_lexer": "ipython2",
   "version": "2.7.6"
  }
 },
 "nbformat": 4,
 "nbformat_minor": 0
}